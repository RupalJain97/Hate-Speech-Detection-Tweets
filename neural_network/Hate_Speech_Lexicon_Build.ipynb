{
  "nbformat": 4,
  "nbformat_minor": 0,
  "metadata": {
    "colab": {
      "provenance": []
    },
    "kernelspec": {
      "name": "python3",
      "display_name": "Python 3"
    },
    "language_info": {
      "name": "python"
    }
  },
  "cells": [
    {
      "cell_type": "code",
      "execution_count": null,
      "metadata": {
        "colab": {
          "base_uri": "https://localhost:8080/"
        },
        "id": "Q1vDvgeCdyG8",
        "outputId": "222e2070-4734-4794-a839-efab1bf35776"
      },
      "outputs": [
        {
          "output_type": "stream",
          "name": "stdout",
          "text": [
            "Drive already mounted at /content/gdrive; to attempt to forcibly remount, call drive.mount(\"/content/gdrive\", force_remount=True).\n"
          ]
        }
      ],
      "source": [
        "from google.colab import drive\n",
        "drive.mount('/content/gdrive')"
      ]
    },
    {
      "cell_type": "code",
      "source": [
        "%cd \"/content/gdrive/MyDrive/CSC 583 Text Retrieval/hatespeech_lexicon_dataset\""
      ],
      "metadata": {
        "colab": {
          "base_uri": "https://localhost:8080/"
        },
        "id": "nfxOfGMQiVkL",
        "outputId": "2011fe0c-6b84-41f1-908d-1b8fdd291f22"
      },
      "execution_count": null,
      "outputs": [
        {
          "output_type": "stream",
          "name": "stdout",
          "text": [
            "/content/gdrive/.shortcut-targets-by-id/1rxvOfGO8GUhjrZK8B0UxXwAOPf-cjgvi/CSC 583 Text Retrieval/hatespeech_lexicon_dataset\n"
          ]
        }
      ]
    },
    {
      "cell_type": "code",
      "source": [
        "import pandas as pd"
      ],
      "metadata": {
        "id": "yim2aWFsiDg5"
      },
      "execution_count": null,
      "outputs": []
    },
    {
      "cell_type": "markdown",
      "source": [
        "# Method 1: Build Lexicon By Intersecting Hate Speech Lexicon"
      ],
      "metadata": {
        "id": "xXYIM-hOfE1q"
      }
    },
    {
      "cell_type": "code",
      "source": [
        "# load Davidson's hate speech lexicon \n",
        "hatespeech1 = pd.read_csv(\"./davidson_refined_ngram_dict.csv\")\n",
        "hatespeech1"
      ],
      "metadata": {
        "colab": {
          "base_uri": "https://localhost:8080/",
          "height": 424
        },
        "id": "xpDKhXf8fKru",
        "outputId": "7a5a0a0f-2036-4e19-8f49-9ac29e704b59"
      },
      "execution_count": null,
      "outputs": [
        {
          "output_type": "execute_result",
          "data": {
            "text/plain": [
              "                 ngram  prophate\n",
              "0          allah akbar     0.870\n",
              "1               blacks     0.583\n",
              "2                chink     0.467\n",
              "3               chinks     0.542\n",
              "4                dykes     0.602\n",
              "..                 ...       ...\n",
              "173   nigga you a lame     0.556\n",
              "174  niggers are in my     0.714\n",
              "175   wit a lame nigga     0.556\n",
              "176   you a lame bitch     0.556\n",
              "177     you fuck wit a     0.556\n",
              "\n",
              "[178 rows x 2 columns]"
            ],
            "text/html": [
              "\n",
              "  <div id=\"df-671d3567-bca7-4a42-a38f-804d4ceb7ec0\">\n",
              "    <div class=\"colab-df-container\">\n",
              "      <div>\n",
              "<style scoped>\n",
              "    .dataframe tbody tr th:only-of-type {\n",
              "        vertical-align: middle;\n",
              "    }\n",
              "\n",
              "    .dataframe tbody tr th {\n",
              "        vertical-align: top;\n",
              "    }\n",
              "\n",
              "    .dataframe thead th {\n",
              "        text-align: right;\n",
              "    }\n",
              "</style>\n",
              "<table border=\"1\" class=\"dataframe\">\n",
              "  <thead>\n",
              "    <tr style=\"text-align: right;\">\n",
              "      <th></th>\n",
              "      <th>ngram</th>\n",
              "      <th>prophate</th>\n",
              "    </tr>\n",
              "  </thead>\n",
              "  <tbody>\n",
              "    <tr>\n",
              "      <th>0</th>\n",
              "      <td>allah akbar</td>\n",
              "      <td>0.870</td>\n",
              "    </tr>\n",
              "    <tr>\n",
              "      <th>1</th>\n",
              "      <td>blacks</td>\n",
              "      <td>0.583</td>\n",
              "    </tr>\n",
              "    <tr>\n",
              "      <th>2</th>\n",
              "      <td>chink</td>\n",
              "      <td>0.467</td>\n",
              "    </tr>\n",
              "    <tr>\n",
              "      <th>3</th>\n",
              "      <td>chinks</td>\n",
              "      <td>0.542</td>\n",
              "    </tr>\n",
              "    <tr>\n",
              "      <th>4</th>\n",
              "      <td>dykes</td>\n",
              "      <td>0.602</td>\n",
              "    </tr>\n",
              "    <tr>\n",
              "      <th>...</th>\n",
              "      <td>...</td>\n",
              "      <td>...</td>\n",
              "    </tr>\n",
              "    <tr>\n",
              "      <th>173</th>\n",
              "      <td>nigga you a lame</td>\n",
              "      <td>0.556</td>\n",
              "    </tr>\n",
              "    <tr>\n",
              "      <th>174</th>\n",
              "      <td>niggers are in my</td>\n",
              "      <td>0.714</td>\n",
              "    </tr>\n",
              "    <tr>\n",
              "      <th>175</th>\n",
              "      <td>wit a lame nigga</td>\n",
              "      <td>0.556</td>\n",
              "    </tr>\n",
              "    <tr>\n",
              "      <th>176</th>\n",
              "      <td>you a lame bitch</td>\n",
              "      <td>0.556</td>\n",
              "    </tr>\n",
              "    <tr>\n",
              "      <th>177</th>\n",
              "      <td>you fuck wit a</td>\n",
              "      <td>0.556</td>\n",
              "    </tr>\n",
              "  </tbody>\n",
              "</table>\n",
              "<p>178 rows × 2 columns</p>\n",
              "</div>\n",
              "      <button class=\"colab-df-convert\" onclick=\"convertToInteractive('df-671d3567-bca7-4a42-a38f-804d4ceb7ec0')\"\n",
              "              title=\"Convert this dataframe to an interactive table.\"\n",
              "              style=\"display:none;\">\n",
              "        \n",
              "  <svg xmlns=\"http://www.w3.org/2000/svg\" height=\"24px\"viewBox=\"0 0 24 24\"\n",
              "       width=\"24px\">\n",
              "    <path d=\"M0 0h24v24H0V0z\" fill=\"none\"/>\n",
              "    <path d=\"M18.56 5.44l.94 2.06.94-2.06 2.06-.94-2.06-.94-.94-2.06-.94 2.06-2.06.94zm-11 1L8.5 8.5l.94-2.06 2.06-.94-2.06-.94L8.5 2.5l-.94 2.06-2.06.94zm10 10l.94 2.06.94-2.06 2.06-.94-2.06-.94-.94-2.06-.94 2.06-2.06.94z\"/><path d=\"M17.41 7.96l-1.37-1.37c-.4-.4-.92-.59-1.43-.59-.52 0-1.04.2-1.43.59L10.3 9.45l-7.72 7.72c-.78.78-.78 2.05 0 2.83L4 21.41c.39.39.9.59 1.41.59.51 0 1.02-.2 1.41-.59l7.78-7.78 2.81-2.81c.8-.78.8-2.07 0-2.86zM5.41 20L4 18.59l7.72-7.72 1.47 1.35L5.41 20z\"/>\n",
              "  </svg>\n",
              "      </button>\n",
              "      \n",
              "  <style>\n",
              "    .colab-df-container {\n",
              "      display:flex;\n",
              "      flex-wrap:wrap;\n",
              "      gap: 12px;\n",
              "    }\n",
              "\n",
              "    .colab-df-convert {\n",
              "      background-color: #E8F0FE;\n",
              "      border: none;\n",
              "      border-radius: 50%;\n",
              "      cursor: pointer;\n",
              "      display: none;\n",
              "      fill: #1967D2;\n",
              "      height: 32px;\n",
              "      padding: 0 0 0 0;\n",
              "      width: 32px;\n",
              "    }\n",
              "\n",
              "    .colab-df-convert:hover {\n",
              "      background-color: #E2EBFA;\n",
              "      box-shadow: 0px 1px 2px rgba(60, 64, 67, 0.3), 0px 1px 3px 1px rgba(60, 64, 67, 0.15);\n",
              "      fill: #174EA6;\n",
              "    }\n",
              "\n",
              "    [theme=dark] .colab-df-convert {\n",
              "      background-color: #3B4455;\n",
              "      fill: #D2E3FC;\n",
              "    }\n",
              "\n",
              "    [theme=dark] .colab-df-convert:hover {\n",
              "      background-color: #434B5C;\n",
              "      box-shadow: 0px 1px 3px 1px rgba(0, 0, 0, 0.15);\n",
              "      filter: drop-shadow(0px 1px 2px rgba(0, 0, 0, 0.3));\n",
              "      fill: #FFFFFF;\n",
              "    }\n",
              "  </style>\n",
              "\n",
              "      <script>\n",
              "        const buttonEl =\n",
              "          document.querySelector('#df-671d3567-bca7-4a42-a38f-804d4ceb7ec0 button.colab-df-convert');\n",
              "        buttonEl.style.display =\n",
              "          google.colab.kernel.accessAllowed ? 'block' : 'none';\n",
              "\n",
              "        async function convertToInteractive(key) {\n",
              "          const element = document.querySelector('#df-671d3567-bca7-4a42-a38f-804d4ceb7ec0');\n",
              "          const dataTable =\n",
              "            await google.colab.kernel.invokeFunction('convertToInteractive',\n",
              "                                                     [key], {});\n",
              "          if (!dataTable) return;\n",
              "\n",
              "          const docLinkHtml = 'Like what you see? Visit the ' +\n",
              "            '<a target=\"_blank\" href=https://colab.research.google.com/notebooks/data_table.ipynb>data table notebook</a>'\n",
              "            + ' to learn more about interactive tables.';\n",
              "          element.innerHTML = '';\n",
              "          dataTable['output_type'] = 'display_data';\n",
              "          await google.colab.output.renderOutput(dataTable, element);\n",
              "          const docLink = document.createElement('div');\n",
              "          docLink.innerHTML = docLinkHtml;\n",
              "          element.appendChild(docLink);\n",
              "        }\n",
              "      </script>\n",
              "    </div>\n",
              "  </div>\n",
              "  "
            ]
          },
          "metadata": {},
          "execution_count": 64
        }
      ]
    },
    {
      "cell_type": "code",
      "source": [
        "hatespeech1_lexicon = hatespeech1['ngram'].values.tolist()"
      ],
      "metadata": {
        "id": "XLlmDsNpo9-6"
      },
      "execution_count": null,
      "outputs": []
    },
    {
      "cell_type": "code",
      "source": [
        "# load second hate speech lexicon data\n",
        "hatespeech2 = pd.read_csv(\"./hurtlex_EN.tsv\", sep='\\t',error_bad_lines=False)\n",
        "hatespeech2"
      ],
      "metadata": {
        "colab": {
          "base_uri": "https://localhost:8080/",
          "height": 513
        },
        "id": "oXM1AGPMirKk",
        "outputId": "a16cc593-7023-4178-e3a4-8373646edc99"
      },
      "execution_count": null,
      "outputs": [
        {
          "output_type": "stream",
          "name": "stderr",
          "text": [
            "<ipython-input-66-f912213db960>:2: FutureWarning: The error_bad_lines argument has been deprecated and will be removed in a future version. Use on_bad_lines in the future.\n",
            "\n",
            "\n",
            "  hatespeech2 = pd.read_csv(\"./hurtlex_EN.tsv\", sep='\\t',error_bad_lines=False)\n"
          ]
        },
        {
          "output_type": "execute_result",
          "data": {
            "text/plain": [
              "          id pos category stereotype           lemma         level\n",
              "0     EN1382   n      qas         no        gag reel     inclusive\n",
              "1     EN7077   a      cds         no          snotty  conservative\n",
              "2     EN6856   n       is        yes       mendicant  conservative\n",
              "3     EN5485   n       re         no         maffias  conservative\n",
              "4     EN5024   n      cds         no  lying in trade  conservative\n",
              "...      ...  ..      ...        ...             ...           ...\n",
              "8223  EN7899   n       an         no      perosuchus     inclusive\n",
              "8224  EN1319   n      cds         no    mother fucka  conservative\n",
              "8225  EN2597   n      cds         no          refuse  conservative\n",
              "8226   EN521   n      asm         no          simple     inclusive\n",
              "8227   EN195   a       an         no        stubborn     inclusive\n",
              "\n",
              "[8228 rows x 6 columns]"
            ],
            "text/html": [
              "\n",
              "  <div id=\"df-a49eb000-a76c-4668-bdf1-a2252d40421a\">\n",
              "    <div class=\"colab-df-container\">\n",
              "      <div>\n",
              "<style scoped>\n",
              "    .dataframe tbody tr th:only-of-type {\n",
              "        vertical-align: middle;\n",
              "    }\n",
              "\n",
              "    .dataframe tbody tr th {\n",
              "        vertical-align: top;\n",
              "    }\n",
              "\n",
              "    .dataframe thead th {\n",
              "        text-align: right;\n",
              "    }\n",
              "</style>\n",
              "<table border=\"1\" class=\"dataframe\">\n",
              "  <thead>\n",
              "    <tr style=\"text-align: right;\">\n",
              "      <th></th>\n",
              "      <th>id</th>\n",
              "      <th>pos</th>\n",
              "      <th>category</th>\n",
              "      <th>stereotype</th>\n",
              "      <th>lemma</th>\n",
              "      <th>level</th>\n",
              "    </tr>\n",
              "  </thead>\n",
              "  <tbody>\n",
              "    <tr>\n",
              "      <th>0</th>\n",
              "      <td>EN1382</td>\n",
              "      <td>n</td>\n",
              "      <td>qas</td>\n",
              "      <td>no</td>\n",
              "      <td>gag reel</td>\n",
              "      <td>inclusive</td>\n",
              "    </tr>\n",
              "    <tr>\n",
              "      <th>1</th>\n",
              "      <td>EN7077</td>\n",
              "      <td>a</td>\n",
              "      <td>cds</td>\n",
              "      <td>no</td>\n",
              "      <td>snotty</td>\n",
              "      <td>conservative</td>\n",
              "    </tr>\n",
              "    <tr>\n",
              "      <th>2</th>\n",
              "      <td>EN6856</td>\n",
              "      <td>n</td>\n",
              "      <td>is</td>\n",
              "      <td>yes</td>\n",
              "      <td>mendicant</td>\n",
              "      <td>conservative</td>\n",
              "    </tr>\n",
              "    <tr>\n",
              "      <th>3</th>\n",
              "      <td>EN5485</td>\n",
              "      <td>n</td>\n",
              "      <td>re</td>\n",
              "      <td>no</td>\n",
              "      <td>maffias</td>\n",
              "      <td>conservative</td>\n",
              "    </tr>\n",
              "    <tr>\n",
              "      <th>4</th>\n",
              "      <td>EN5024</td>\n",
              "      <td>n</td>\n",
              "      <td>cds</td>\n",
              "      <td>no</td>\n",
              "      <td>lying in trade</td>\n",
              "      <td>conservative</td>\n",
              "    </tr>\n",
              "    <tr>\n",
              "      <th>...</th>\n",
              "      <td>...</td>\n",
              "      <td>...</td>\n",
              "      <td>...</td>\n",
              "      <td>...</td>\n",
              "      <td>...</td>\n",
              "      <td>...</td>\n",
              "    </tr>\n",
              "    <tr>\n",
              "      <th>8223</th>\n",
              "      <td>EN7899</td>\n",
              "      <td>n</td>\n",
              "      <td>an</td>\n",
              "      <td>no</td>\n",
              "      <td>perosuchus</td>\n",
              "      <td>inclusive</td>\n",
              "    </tr>\n",
              "    <tr>\n",
              "      <th>8224</th>\n",
              "      <td>EN1319</td>\n",
              "      <td>n</td>\n",
              "      <td>cds</td>\n",
              "      <td>no</td>\n",
              "      <td>mother fucka</td>\n",
              "      <td>conservative</td>\n",
              "    </tr>\n",
              "    <tr>\n",
              "      <th>8225</th>\n",
              "      <td>EN2597</td>\n",
              "      <td>n</td>\n",
              "      <td>cds</td>\n",
              "      <td>no</td>\n",
              "      <td>refuse</td>\n",
              "      <td>conservative</td>\n",
              "    </tr>\n",
              "    <tr>\n",
              "      <th>8226</th>\n",
              "      <td>EN521</td>\n",
              "      <td>n</td>\n",
              "      <td>asm</td>\n",
              "      <td>no</td>\n",
              "      <td>simple</td>\n",
              "      <td>inclusive</td>\n",
              "    </tr>\n",
              "    <tr>\n",
              "      <th>8227</th>\n",
              "      <td>EN195</td>\n",
              "      <td>a</td>\n",
              "      <td>an</td>\n",
              "      <td>no</td>\n",
              "      <td>stubborn</td>\n",
              "      <td>inclusive</td>\n",
              "    </tr>\n",
              "  </tbody>\n",
              "</table>\n",
              "<p>8228 rows × 6 columns</p>\n",
              "</div>\n",
              "      <button class=\"colab-df-convert\" onclick=\"convertToInteractive('df-a49eb000-a76c-4668-bdf1-a2252d40421a')\"\n",
              "              title=\"Convert this dataframe to an interactive table.\"\n",
              "              style=\"display:none;\">\n",
              "        \n",
              "  <svg xmlns=\"http://www.w3.org/2000/svg\" height=\"24px\"viewBox=\"0 0 24 24\"\n",
              "       width=\"24px\">\n",
              "    <path d=\"M0 0h24v24H0V0z\" fill=\"none\"/>\n",
              "    <path d=\"M18.56 5.44l.94 2.06.94-2.06 2.06-.94-2.06-.94-.94-2.06-.94 2.06-2.06.94zm-11 1L8.5 8.5l.94-2.06 2.06-.94-2.06-.94L8.5 2.5l-.94 2.06-2.06.94zm10 10l.94 2.06.94-2.06 2.06-.94-2.06-.94-.94-2.06-.94 2.06-2.06.94z\"/><path d=\"M17.41 7.96l-1.37-1.37c-.4-.4-.92-.59-1.43-.59-.52 0-1.04.2-1.43.59L10.3 9.45l-7.72 7.72c-.78.78-.78 2.05 0 2.83L4 21.41c.39.39.9.59 1.41.59.51 0 1.02-.2 1.41-.59l7.78-7.78 2.81-2.81c.8-.78.8-2.07 0-2.86zM5.41 20L4 18.59l7.72-7.72 1.47 1.35L5.41 20z\"/>\n",
              "  </svg>\n",
              "      </button>\n",
              "      \n",
              "  <style>\n",
              "    .colab-df-container {\n",
              "      display:flex;\n",
              "      flex-wrap:wrap;\n",
              "      gap: 12px;\n",
              "    }\n",
              "\n",
              "    .colab-df-convert {\n",
              "      background-color: #E8F0FE;\n",
              "      border: none;\n",
              "      border-radius: 50%;\n",
              "      cursor: pointer;\n",
              "      display: none;\n",
              "      fill: #1967D2;\n",
              "      height: 32px;\n",
              "      padding: 0 0 0 0;\n",
              "      width: 32px;\n",
              "    }\n",
              "\n",
              "    .colab-df-convert:hover {\n",
              "      background-color: #E2EBFA;\n",
              "      box-shadow: 0px 1px 2px rgba(60, 64, 67, 0.3), 0px 1px 3px 1px rgba(60, 64, 67, 0.15);\n",
              "      fill: #174EA6;\n",
              "    }\n",
              "\n",
              "    [theme=dark] .colab-df-convert {\n",
              "      background-color: #3B4455;\n",
              "      fill: #D2E3FC;\n",
              "    }\n",
              "\n",
              "    [theme=dark] .colab-df-convert:hover {\n",
              "      background-color: #434B5C;\n",
              "      box-shadow: 0px 1px 3px 1px rgba(0, 0, 0, 0.15);\n",
              "      filter: drop-shadow(0px 1px 2px rgba(0, 0, 0, 0.3));\n",
              "      fill: #FFFFFF;\n",
              "    }\n",
              "  </style>\n",
              "\n",
              "      <script>\n",
              "        const buttonEl =\n",
              "          document.querySelector('#df-a49eb000-a76c-4668-bdf1-a2252d40421a button.colab-df-convert');\n",
              "        buttonEl.style.display =\n",
              "          google.colab.kernel.accessAllowed ? 'block' : 'none';\n",
              "\n",
              "        async function convertToInteractive(key) {\n",
              "          const element = document.querySelector('#df-a49eb000-a76c-4668-bdf1-a2252d40421a');\n",
              "          const dataTable =\n",
              "            await google.colab.kernel.invokeFunction('convertToInteractive',\n",
              "                                                     [key], {});\n",
              "          if (!dataTable) return;\n",
              "\n",
              "          const docLinkHtml = 'Like what you see? Visit the ' +\n",
              "            '<a target=\"_blank\" href=https://colab.research.google.com/notebooks/data_table.ipynb>data table notebook</a>'\n",
              "            + ' to learn more about interactive tables.';\n",
              "          element.innerHTML = '';\n",
              "          dataTable['output_type'] = 'display_data';\n",
              "          await google.colab.output.renderOutput(dataTable, element);\n",
              "          const docLink = document.createElement('div');\n",
              "          docLink.innerHTML = docLinkHtml;\n",
              "          element.appendChild(docLink);\n",
              "        }\n",
              "      </script>\n",
              "    </div>\n",
              "  </div>\n",
              "  "
            ]
          },
          "metadata": {},
          "execution_count": 66
        }
      ]
    },
    {
      "cell_type": "code",
      "source": [
        "hatespeech2_lexicon = hatespeech2['lemma'].values.tolist()"
      ],
      "metadata": {
        "id": "UETWYGeipCSo"
      },
      "execution_count": null,
      "outputs": []
    },
    {
      "cell_type": "code",
      "source": [
        "# get the intersection\n",
        "intersection = set() \n",
        "for phrase in hatespeech1_lexicon:\n",
        "  if phrase in hatespeech2_lexicon:\n",
        "    print(phrase)\n",
        "    intersection.add(phrase)\n",
        "  # if phrase, check if a word in the phrase is in intersection\n",
        "  words = phrase.split(\" \")\n",
        "  if len(words) > 2:\n",
        "    for word in words:\n",
        "      if word in hatespeech2_lexicon:\n",
        "        #print(\"part of word intersection: \", word)\n",
        "        intersection.add(word)"
      ],
      "metadata": {
        "colab": {
          "base_uri": "https://localhost:8080/"
        },
        "id": "uovng0a3pGIY",
        "outputId": "cdb78dca-3973-4689-9559-222da6e679af"
      },
      "execution_count": null,
      "outputs": [
        {
          "output_type": "stream",
          "name": "stdout",
          "text": [
            "faggot\n",
            "homo\n",
            "nigger\n",
            "niggers\n",
            "queers\n",
            "raped\n"
          ]
        }
      ]
    },
    {
      "cell_type": "code",
      "source": [
        "print(len(intersection))\n",
        "print(intersection)"
      ],
      "metadata": {
        "colab": {
          "base_uri": "https://localhost:8080/"
        },
        "id": "_hBFuG_7qe4l",
        "outputId": "ba6b839a-0d9c-4a27-824b-a7593ea41917"
      },
      "execution_count": null,
      "outputs": [
        {
          "output_type": "stream",
          "name": "stdout",
          "text": [
            "19\n",
            "{'do', 'dirty', 'fucking', 'homo', 'nigga', 'fuckin', 'queers', 'fuck', 'raped', 'bitch', 'cunt', 'fag', 'niggers', 'queer', 'lame', 'trash', 'faggot', 'nigger', 'white'}\n"
          ]
        }
      ]
    },
    {
      "cell_type": "code",
      "source": [
        "intersection.remove(\"do\")\n",
        "intersection.remove(\"white\")"
      ],
      "metadata": {
        "id": "prJ4dg24qizd"
      },
      "execution_count": null,
      "outputs": []
    },
    {
      "cell_type": "code",
      "source": [
        "len(intersection)"
      ],
      "metadata": {
        "colab": {
          "base_uri": "https://localhost:8080/"
        },
        "id": "2iRCs5T9_QD6",
        "outputId": "b0f5a1b1-7d1a-44a3-a6de-856b8cfa08e1"
      },
      "execution_count": null,
      "outputs": [
        {
          "output_type": "execute_result",
          "data": {
            "text/plain": [
              "17"
            ]
          },
          "metadata": {},
          "execution_count": 71
        }
      ]
    },
    {
      "cell_type": "code",
      "source": [
        "intersection # hate speech lexicon "
      ],
      "metadata": {
        "colab": {
          "base_uri": "https://localhost:8080/"
        },
        "id": "g-B3a3PEqo97",
        "outputId": "a12d906f-ffc0-4714-99ac-862e4242f5a4"
      },
      "execution_count": null,
      "outputs": [
        {
          "output_type": "execute_result",
          "data": {
            "text/plain": [
              "{'bitch',\n",
              " 'cunt',\n",
              " 'dirty',\n",
              " 'fag',\n",
              " 'faggot',\n",
              " 'fuck',\n",
              " 'fuckin',\n",
              " 'fucking',\n",
              " 'homo',\n",
              " 'lame',\n",
              " 'nigga',\n",
              " 'nigger',\n",
              " 'niggers',\n",
              " 'queer',\n",
              " 'queers',\n",
              " 'raped',\n",
              " 'trash'}"
            ]
          },
          "metadata": {},
          "execution_count": 72
        }
      ]
    },
    {
      "cell_type": "code",
      "source": [
        "# save this as file\n",
        "f = open(\"./hatespeech_lexicon.txt\", \"w\")\n",
        "for word in intersection:\n",
        "  f.write(word+\"\\n\")\n",
        "f.close()"
      ],
      "metadata": {
        "id": "NfO_TvJx_fB5"
      },
      "execution_count": null,
      "outputs": []
    },
    {
      "cell_type": "markdown",
      "source": [
        "# Method 2: Expand the intersection lexicon"
      ],
      "metadata": {
        "id": "sp7Ti2afh_7A"
      }
    },
    {
      "cell_type": "code",
      "source": [
        "from gensim.models.word2vec import Word2Vec\n",
        "import gensim.downloader as api"
      ],
      "metadata": {
        "id": "bIYFhzNI-Kk3"
      },
      "execution_count": null,
      "outputs": []
    },
    {
      "cell_type": "code",
      "source": [
        "# download the model and return as object ready for use\n",
        "model_glove_twitter = api.load(\"glove-twitter-25\") # can replace the dimension and model"
      ],
      "metadata": {
        "id": "kEr9zavO-D5V"
      },
      "execution_count": null,
      "outputs": []
    },
    {
      "cell_type": "code",
      "source": [
        "model_glove_twitter.most_similar(\"policies\",topn=10)"
      ],
      "metadata": {
        "colab": {
          "base_uri": "https://localhost:8080/"
        },
        "id": "O0-3UjtHiB3q",
        "outputId": "39361391-48e8-49e4-e5d8-972194e213c3"
      },
      "execution_count": null,
      "outputs": [
        {
          "output_type": "execute_result",
          "data": {
            "text/plain": [
              "[('policy', 0.9484812617301941),\n",
              " ('reforms', 0.940393328666687),\n",
              " ('laws', 0.9401204586029053),\n",
              " ('government', 0.9230710864067078),\n",
              " ('regulations', 0.916893482208252),\n",
              " ('economy', 0.9110006093978882),\n",
              " ('immigration', 0.9105910658836365),\n",
              " ('legislation', 0.9089651107788086),\n",
              " ('govt', 0.9054745435714722),\n",
              " ('regulation', 0.9050778746604919)]"
            ]
          },
          "metadata": {},
          "execution_count": 75
        }
      ]
    },
    {
      "cell_type": "code",
      "source": [
        "expanded_intersection = set(intersection)"
      ],
      "metadata": {
        "id": "OB-ET566-9vg"
      },
      "execution_count": null,
      "outputs": []
    },
    {
      "cell_type": "code",
      "source": [
        "for hate_word in intersection:\n",
        "  expanded = model_glove_twitter.most_similar(hate_word,topn=5)\n",
        "  for word, similarity in expanded:\n",
        "    expanded_intersection.add(word)\n",
        "    print(word)\n",
        "  print(f\"{hate_word} - most similar: {model_glove_twitter.most_similar(hate_word,topn=5)}\")"
      ],
      "metadata": {
        "colab": {
          "base_uri": "https://localhost:8080/"
        },
        "id": "v2nXyvpZ9xFk",
        "outputId": "6249cb61-d395-4cdb-a7ac-37e8ff3d325e"
      },
      "execution_count": null,
      "outputs": [
        {
          "output_type": "stream",
          "name": "stdout",
          "text": [
            "ass\n",
            "nasty\n",
            "dick\n",
            "ratchet\n",
            "trash\n",
            "dirty - most similar: [('ass', 0.9531222581863403), ('nasty', 0.9366165995597839), ('dick', 0.9346200823783875), ('ratchet', 0.9336236119270325), ('trash', 0.9310711026191711)]\n",
            "damn\n",
            "dude\n",
            "bad\n",
            "shit\n",
            "fuckin\n",
            "fucking - most similar: [('damn', 0.943954586982727), ('dude', 0.9413571357727051), ('bad', 0.9398874640464783), ('shit', 0.9395081996917725), ('fuckin', 0.9372732639312744)]\n",
            "nigger\n",
            "hoe\n",
            "gangster\n",
            "idiot\n",
            "hoer\n",
            "homo - most similar: [('nigger', 0.7869670987129211), ('hoe', 0.7857903838157654), ('gangster', 0.7611382007598877), ('idiot', 0.7478660941123962), ('hoer', 0.7402228713035583)]\n",
            "lil\n",
            "bitch\n",
            "mf\n",
            "bruh\n",
            "dawg\n",
            "nigga - most similar: [('lil', 0.9541468024253845), ('bitch', 0.9520375728607178), ('mf', 0.9506526589393616), ('bruh', 0.9500958919525146), ('dawg', 0.948303759098053)]\n",
            "damn\n",
            "shit\n",
            "mad\n",
            "nigga\n",
            "ass\n",
            "fuckin - most similar: [('damn', 0.952354907989502), ('shit', 0.947651207447052), ('mad', 0.9470900893211365), ('nigga', 0.9452493786811829), ('ass', 0.9375782012939453)]\n",
            "skanks\n",
            "beaners\n",
            "faggets\n",
            "hypebeasts\n",
            "scumbags\n",
            "queers - most similar: [('skanks', 0.9177168011665344), ('beaners', 0.9135903716087341), ('faggets', 0.9013542532920837), ('hypebeasts', 0.8958460688591003), ('scumbags', 0.8934634923934937)]\n",
            "shit\n",
            "hell\n",
            "damn\n",
            "bitch\n",
            "dude\n",
            "fuck - most similar: [('shit', 0.9751238226890564), ('hell', 0.9603639841079712), ('damn', 0.9558750987052917), ('bitch', 0.9554055333137512), ('dude', 0.9519549012184143)]\n",
            "kidnapped\n",
            "murdered\n",
            "stabbed\n",
            "attacked\n",
            "dumped\n",
            "raped - most similar: [('kidnapped', 0.9282351732254028), ('murdered', 0.9254865050315857), ('stabbed', 0.9242218732833862), ('attacked', 0.9119666218757629), ('dumped', 0.9077367782592773)]\n",
            "fuck\n",
            "shit\n",
            "nigga\n",
            "lmao\n",
            "ass\n",
            "bitch - most similar: [('fuck', 0.9554055333137512), ('shit', 0.9524178504943848), ('nigga', 0.9520374536514282), ('lmao', 0.942203164100647), ('ass', 0.9404901266098022)]\n",
            "twat\n",
            "prick\n",
            "bastard\n",
            "dickhead\n",
            "asshole\n",
            "cunt - most similar: [('twat', 0.9776409864425659), ('prick', 0.9454802870750427), ('bastard', 0.9450342655181885), ('dickhead', 0.922619640827179), ('asshole', 0.9213163256645203)]\n",
            "faggot\n",
            "whore\n",
            "dickhead\n",
            "fucker\n",
            "weirdo\n",
            "fag - most similar: [('faggot', 0.9627767205238342), ('whore', 0.925791323184967), ('dickhead', 0.9208664298057556), ('fucker', 0.9191923141479492), ('weirdo', 0.9131364822387695)]\n",
            "clowns\n",
            "fags\n",
            "gangsters\n",
            "homos\n",
            "rats\n",
            "niggers - most similar: [('clowns', 0.8985654711723328), ('fags', 0.8697922229766846), ('gangsters', 0.8574838638305664), ('homos', 0.8425107598304749), ('rats', 0.8402019143104553)]\n",
            "manners\n",
            "maggot\n",
            "feminine\n",
            "feminist\n",
            "wannabe\n",
            "queer - most similar: [('manners', 0.8263522386550903), ('maggot', 0.8218573331832886), ('feminine', 0.7980439066886902), ('feminist', 0.7979127764701843), ('wannabe', 0.7974877953529358)]\n",
            "dumb\n",
            "mad\n",
            "mfs\n",
            "lowkey\n",
            "err\n",
            "lame - most similar: [('dumb', 0.8745341300964355), ('mad', 0.870917558670044), ('mfs', 0.8683024048805237), ('lowkey', 0.8664793968200684), ('err', 0.8652024269104004)]\n",
            "garbage\n",
            "dirty\n",
            "heads\n",
            "straight\n",
            "dick\n",
            "trash - most similar: [('garbage', 0.9471434354782104), ('dirty', 0.9310711622238159), ('heads', 0.9134045839309692), ('straight', 0.9120458364486694), ('dick', 0.9050998091697693)]\n",
            "fag\n",
            "whore\n",
            "asshole\n",
            "dumbass\n",
            "cunt\n",
            "faggot - most similar: [('fag', 0.9627765417098999), ('whore', 0.9559023976325989), ('asshole', 0.9398816823959351), ('dumbass', 0.9260054230690002), ('cunt', 0.9170635938644409)]\n",
            "clown\n",
            "hoe\n",
            "chick\n",
            "goon\n",
            "thot\n",
            "nigger - most similar: [('clown', 0.8998481035232544), ('hoe', 0.8920387625694275), ('chick', 0.8864096999168396), ('goon', 0.882906436920166), ('thot', 0.879937469959259)]\n"
          ]
        }
      ]
    },
    {
      "cell_type": "code",
      "source": [
        "print(expanded_intersection)\n",
        "print(\"after expansion size \", len(expanded_intersection))"
      ],
      "metadata": {
        "colab": {
          "base_uri": "https://localhost:8080/"
        },
        "id": "3YggjFfz-nuL",
        "outputId": "cb27dfb6-bd72-4999-9a53-a41887b05fc8"
      },
      "execution_count": null,
      "outputs": [
        {
          "output_type": "stream",
          "name": "stdout",
          "text": [
            "{'hoe', 'bastard', 'dick', 'asshole', 'dirty', 'heads', 'homo', 'weirdo', 'queers', 'fuck', 'damn', 'ratchet', 'clowns', 'raped', 'dumb', 'nasty', 'bitch', 'clown', 'lowkey', 'wannabe', 'feminine', 'gangsters', 'fag', 'dumped', 'whore', 'hypebeasts', 'prick', 'dumbass', 'homos', 'beaners', 'attacked', 'trash', 'twat', 'faggot', 'nigger', 'maggot', 'hell', 'stabbed', 'lil', 'chick', 'feminist', 'fucking', 'gangster', 'skanks', 'nigga', 'fuckin', 'ass', 'dawg', 'mfs', 'err', 'hoer', 'rats', 'bruh', 'goon', 'dude', 'cunt', 'bad', 'fucker', 'scumbags', 'thot', 'kidnapped', 'mf', 'niggers', 'shit', 'queer', 'lmao', 'murdered', 'straight', 'idiot', 'manners', 'lame', 'faggets', 'fags', 'mad', 'dickhead', 'garbage'}\n",
            "after expansion size  76\n"
          ]
        }
      ]
    },
    {
      "cell_type": "code",
      "source": [
        "# save this as file\n",
        "f = open(\"./expanded_hatespeech_lexicon.txt\", \"w\")\n",
        "for word in expanded_intersection:\n",
        "  f.write(word+\"\\n\")\n",
        "f.close()"
      ],
      "metadata": {
        "id": "VU9XjbkI_OaD"
      },
      "execution_count": null,
      "outputs": []
    },
    {
      "cell_type": "code",
      "source": [],
      "metadata": {
        "id": "eg4Ebvq1ALIi"
      },
      "execution_count": null,
      "outputs": []
    }
  ]
}